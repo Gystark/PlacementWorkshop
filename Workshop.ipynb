{
 "cells": [
  {
   "cell_type": "markdown",
   "metadata": {
    "slideshow": {
     "slide_type": "slide"
    }
   },
   "source": [
    "<h1 align=\"center\">Python: to async and beyond</h1>\n",
    "<h4 align=\"center\"><em>Gabor Borics-Kurti</em></h4>"
   ]
  },
  {
   "cell_type": "markdown",
   "metadata": {},
   "source": [
    "<h2 align=\"center\">A brief introduction to Python</h2>\n",
    "\n",
    "Python is a high-level language widely used in data science, web development and other areas due to its extensibility and ease of use. This year, it ranked as the 3rd most popular language on the TIOBE index.*[1]*\n",
    "In the late 1980s, Guido van Rossum started working on an easy-to-use scripting language which he named after the Monthy Python's Flying Circus BBC TV show.\n",
    "\n",
    "Python 2 was released in 2000 and 3 in 2008 - many applications are still using 2 even though the new versions offer exciting new features (and 2.7 is the last version with support ending in two years). The major changes include:\n",
    "* Making the print statement a built-in function\n",
    "* Consolidating duplicate (or very similar) features into unified ones: input and raw_input became input() for example\n",
    "* Adding support for type hints (more on these later)\n",
    "* Improving Unicode support by making all strings Unicode by default\n",
    "* Changing the way integer division is handled: in Python 2, *7 / 2 = 3* while in Python 3 the same expression evaluates to 3.5 - divisions are floating-point ones by default\n",
    "\n",
    "*[1] https://www.tiobe.com/tiobe-index/*\n"
   ]
  },
  {
   "cell_type": "markdown",
   "metadata": {},
   "source": [
    "One of the reasons Python became so popular is its community support and the amount (and quality) of packages available for it. The official, central Python module repository, the Python Package Index (PyPI) contains over 160 000 projects as of December 2018. These cover everything a developer might need from ML toolkits (such as Tensorflow or scikit-learn) through web frameworks (Django, Flask) to game engines (Pygame).\n",
    "\n",
    "Packages can be installed using pip (the recommended way) or through tools such as the popular Anaconda distribution. As a computer might be used for developing multiple Python applications which use different package and/or Python version, the use of virtual environments is recommended. Virtualenv and the newer (better) Pipenv tools can help with this."
   ]
  },
  {
   "cell_type": "markdown",
   "metadata": {},
   "source": [
    "For this workshop I am using the latest Python version (3.7) to be able to show some of the new features it offers.\n",
    "These include:\n",
    "* Context variables - safer, more performant storage which can be shared between threads/async processes\n",
    "* Data classes\n",
    "* Built-in support for breakpoints\n",
    "* Nanosecond-resolution time\n",
    "* Improvements to async features\n",
    "* Fixing annotations by enabling them to be resolved at runtime\n",
    "\n",
    "Data classes make it cleaner and easier to declare data models:"
   ]
  },
  {
   "cell_type": "code",
   "execution_count": 1,
   "metadata": {},
   "outputs": [
    {
     "name": "stdout",
     "output_type": "stream",
     "text": [
      "Allen B. Downey: Think Python: How to Think Like a Computer Scientist, ISBN \n",
      "Zed A. Shaw: Learn Python 3 the Hard Way, ISBN 0134692888\n",
      "False\n",
      "True\n"
     ]
    }
   ],
   "source": [
    "class Book:\n",
    "    title: str\n",
    "    author: str\n",
    "    isbn: str\n",
    "        \n",
    "    def __init__(self, title, author, isbn = \"\"):\n",
    "        self.title = title\n",
    "        self.author = author\n",
    "        self.isbn = isbn\n",
    "        \n",
    "    def __eq__(self, other):\n",
    "        return self.title == other.title and self.author == other.author and self.isbn == other.isbn\n",
    "    \n",
    "    def __repr__(self):\n",
    "        return \"{}: {}, ISBN {}\".format(self.author, self.title, self.isbn)\n",
    "    \n",
    "first_book = Book(\"Think Python: How to Think Like a Computer Scientist\", \"Allen B. Downey\")\n",
    "second_book = Book(\"Learn Python 3 the Hard Way\", \"Zed A. Shaw\", \"0134692888\")\n",
    "third_book = Book(\"Think Python: How to Think Like a Computer Scientist\", \"Allen B. Downey\")\n",
    "\n",
    "print(first_book)\n",
    "print(second_book)\n",
    "print(first_book == second_book)\n",
    "print(first_book == third_book)"
   ]
  },
  {
   "cell_type": "markdown",
   "metadata": {},
   "source": [
    "Comparing this to a dataclass:"
   ]
  },
  {
   "cell_type": "code",
   "execution_count": 2,
   "metadata": {},
   "outputs": [
    {
     "name": "stdout",
     "output_type": "stream",
     "text": [
      "Book(title='Think Python: How to Think Like a Computer Scientist', author='Allen B. Downey', isbn='')\n",
      "Book(title='Learn Python 3 the Hard Way', author='Zed A. Shaw', isbn='0134692888')\n",
      "False\n",
      "True\n"
     ]
    }
   ],
   "source": [
    "from dataclasses import dataclass\n",
    "\n",
    "\n",
    "@dataclass\n",
    "class Book:\n",
    "    title: str\n",
    "    author: str\n",
    "    isbn: str = \"\"\n",
    "          \n",
    "first_book = Book(\"Think Python: How to Think Like a Computer Scientist\", \"Allen B. Downey\")\n",
    "second_book = Book(\"Learn Python 3 the Hard Way\", \"Zed A. Shaw\", \"0134692888\")\n",
    "third_book = Book(\"Think Python: How to Think Like a Computer Scientist\", \"Allen B. Downey\")\n",
    "\n",
    "print(first_book)\n",
    "print(second_book)\n",
    "print(first_book == second_book)\n",
    "print(first_book == third_book)"
   ]
  },
  {
   "cell_type": "markdown",
   "metadata": {},
   "source": [
    "<h2 align=\"center\">Lists, generators and performance</h2>\n",
    "\n",
    "Lists are flexible but can be a bit too slow for certain uses. For example:"
   ]
  },
  {
   "cell_type": "code",
   "execution_count": 3,
   "metadata": {},
   "outputs": [
    {
     "name": "stdout",
     "output_type": "stream",
     "text": [
      "[0, 1, 2, 3, 4] [5000, 5001, 5002, 5003, 5004] [9995, 9996, 9997, 9998, 9999]\n",
      "\n",
      "[1, 2, 3, 4, 5] [5001, 5002, 5003, 5004, 5005] [9996, 9997, 9998, 9999, 10000]\n"
     ]
    }
   ],
   "source": [
    "def append_grades():\n",
    "    \"\"\" Prints a list of 10 000 grades \"\"\"\n",
    "    grades = list(range(10_000)) # 10 000 grades, created using range()\n",
    "\n",
    "    # Create a new list of grades, adding 1 to each\n",
    "    new_grades = []\n",
    "    for grade in grades:\n",
    "        new_grades.append(grade + 1)\n",
    "\n",
    "    # Print 3 slices of new and old grades, to verify this operation\n",
    "    print(grades[:5], grades[5000:5005], grades[-5:])\n",
    "    print()\n",
    "    print(new_grades[:5], new_grades[5000:5005], new_grades[-5:])\n",
    "    \n",
    "\n",
    "append_grades()"
   ]
  },
  {
   "cell_type": "markdown",
   "metadata": {},
   "source": [
    "#### Why is this operation slow?\n",
    "\n",
    "We have to keep extending the list and call the append function for each iteration - we can make this operation much faster."
   ]
  },
  {
   "cell_type": "code",
   "execution_count": 4,
   "metadata": {},
   "outputs": [
    {
     "name": "stdout",
     "output_type": "stream",
     "text": [
      "  3           0 LOAD_GLOBAL              0 (list)\n",
      "              2 LOAD_GLOBAL              1 (range)\n",
      "              4 LOAD_CONST               1 (10000)\n",
      "              6 CALL_FUNCTION            1\n",
      "              8 CALL_FUNCTION            1\n",
      "             10 STORE_FAST               0 (grades)\n",
      "\n",
      "  6          12 BUILD_LIST               0\n",
      "             14 STORE_FAST               1 (new_grades)\n",
      "\n",
      "  7          16 SETUP_LOOP              26 (to 44)\n",
      "             18 LOAD_FAST                0 (grades)\n",
      "             20 GET_ITER\n",
      "        >>   22 FOR_ITER                18 (to 42)\n",
      "             24 STORE_FAST               2 (grade)\n",
      "\n",
      "  8          26 LOAD_FAST                1 (new_grades)\n",
      "             28 LOAD_METHOD              2 (append)\n",
      "             30 LOAD_FAST                2 (grade)\n",
      "             32 LOAD_CONST               2 (1)\n",
      "             34 BINARY_ADD\n",
      "             36 CALL_METHOD              1\n",
      "             38 POP_TOP\n",
      "             40 JUMP_ABSOLUTE           22\n",
      "        >>   42 POP_BLOCK\n",
      "\n",
      " 11     >>   44 LOAD_GLOBAL              3 (print)\n",
      "             46 LOAD_FAST                0 (grades)\n",
      "             48 LOAD_CONST               3 (None)\n",
      "             50 LOAD_CONST               4 (5)\n",
      "             52 BUILD_SLICE              2\n",
      "             54 BINARY_SUBSCR\n",
      "             56 LOAD_FAST                0 (grades)\n",
      "             58 LOAD_CONST               5 (5000)\n",
      "             60 LOAD_CONST               6 (5005)\n",
      "             62 BUILD_SLICE              2\n",
      "             64 BINARY_SUBSCR\n",
      "             66 LOAD_FAST                0 (grades)\n",
      "             68 LOAD_CONST               7 (-5)\n",
      "             70 LOAD_CONST               3 (None)\n",
      "             72 BUILD_SLICE              2\n",
      "             74 BINARY_SUBSCR\n",
      "             76 CALL_FUNCTION            3\n",
      "             78 POP_TOP\n",
      "\n",
      " 12          80 LOAD_GLOBAL              3 (print)\n",
      "             82 CALL_FUNCTION            0\n",
      "             84 POP_TOP\n",
      "\n",
      " 13          86 LOAD_GLOBAL              3 (print)\n",
      "             88 LOAD_FAST                1 (new_grades)\n",
      "             90 LOAD_CONST               3 (None)\n",
      "             92 LOAD_CONST               4 (5)\n",
      "             94 BUILD_SLICE              2\n",
      "             96 BINARY_SUBSCR\n",
      "             98 LOAD_FAST                1 (new_grades)\n",
      "            100 LOAD_CONST               5 (5000)\n",
      "            102 LOAD_CONST               6 (5005)\n",
      "            104 BUILD_SLICE              2\n",
      "            106 BINARY_SUBSCR\n",
      "            108 LOAD_FAST                1 (new_grades)\n",
      "            110 LOAD_CONST               7 (-5)\n",
      "            112 LOAD_CONST               3 (None)\n",
      "            114 BUILD_SLICE              2\n",
      "            116 BINARY_SUBSCR\n",
      "            118 CALL_FUNCTION            3\n",
      "            120 POP_TOP\n",
      "            122 LOAD_CONST               3 (None)\n",
      "            124 RETURN_VALUE\n"
     ]
    }
   ],
   "source": [
    "import dis\n",
    "\n",
    "\n",
    "dis.dis(append_grades)"
   ]
  },
  {
   "cell_type": "markdown",
   "metadata": {},
   "source": [
    "The same operation is faster using list comprehension because its creation can be optimised and does not have to call the append() function for each Python object we add to it."
   ]
  },
  {
   "cell_type": "code",
   "execution_count": 5,
   "metadata": {},
   "outputs": [
    {
     "name": "stdout",
     "output_type": "stream",
     "text": [
      "[0, 1, 2, 3, 4] [5000, 5001, 5002, 5003, 5004] [9995, 9996, 9997, 9998, 9999]\n",
      "\n",
      "[1, 2, 3, 4, 5] [5001, 5002, 5003, 5004, 5005] [9996, 9997, 9998, 9999, 10000]\n"
     ]
    }
   ],
   "source": [
    "def append_grades_faster():\n",
    "    grades = list(range(10_000)) # 10 000 grades, created using range()\n",
    "\n",
    "    # Create a new list of grades, adding 1 to each\n",
    "    new_grades = [grade + 1 for grade in grades]\n",
    "\n",
    "    # Print 3 slices of new and old grades, to verify this operation\n",
    "    print(grades[:5], grades[5000:5005], grades[-5:])\n",
    "    print()\n",
    "    print(new_grades[:5], new_grades[5000:5005], new_grades[-5:])\n",
    "    \n",
    "    \n",
    "append_grades_faster()"
   ]
  },
  {
   "cell_type": "code",
   "execution_count": 6,
   "metadata": {},
   "outputs": [
    {
     "name": "stdout",
     "output_type": "stream",
     "text": [
      "  2           0 LOAD_GLOBAL              0 (list)\n",
      "              2 LOAD_GLOBAL              1 (range)\n",
      "              4 LOAD_CONST               1 (10000)\n",
      "              6 CALL_FUNCTION            1\n",
      "              8 CALL_FUNCTION            1\n",
      "             10 STORE_FAST               0 (grades)\n",
      "\n",
      "  5          12 LOAD_CONST               2 (<code object <listcomp> at 0x10a1c4810, file \"<ipython-input-5-3c1dae8d96f2>\", line 5>)\n",
      "             14 LOAD_CONST               3 ('append_grades_faster.<locals>.<listcomp>')\n",
      "             16 MAKE_FUNCTION            0\n",
      "             18 LOAD_FAST                0 (grades)\n",
      "             20 GET_ITER\n",
      "             22 CALL_FUNCTION            1\n",
      "             24 STORE_FAST               1 (new_grades)\n",
      "\n",
      "  8          26 LOAD_GLOBAL              2 (print)\n",
      "             28 LOAD_FAST                0 (grades)\n",
      "             30 LOAD_CONST               0 (None)\n",
      "             32 LOAD_CONST               4 (5)\n",
      "             34 BUILD_SLICE              2\n",
      "             36 BINARY_SUBSCR\n",
      "             38 LOAD_FAST                0 (grades)\n",
      "             40 LOAD_CONST               5 (5000)\n",
      "             42 LOAD_CONST               6 (5005)\n",
      "             44 BUILD_SLICE              2\n",
      "             46 BINARY_SUBSCR\n",
      "             48 LOAD_FAST                0 (grades)\n",
      "             50 LOAD_CONST               7 (-5)\n",
      "             52 LOAD_CONST               0 (None)\n",
      "             54 BUILD_SLICE              2\n",
      "             56 BINARY_SUBSCR\n",
      "             58 CALL_FUNCTION            3\n",
      "             60 POP_TOP\n",
      "\n",
      "  9          62 LOAD_GLOBAL              2 (print)\n",
      "             64 CALL_FUNCTION            0\n",
      "             66 POP_TOP\n",
      "\n",
      " 10          68 LOAD_GLOBAL              2 (print)\n",
      "             70 LOAD_FAST                1 (new_grades)\n",
      "             72 LOAD_CONST               0 (None)\n",
      "             74 LOAD_CONST               4 (5)\n",
      "             76 BUILD_SLICE              2\n",
      "             78 BINARY_SUBSCR\n",
      "             80 LOAD_FAST                1 (new_grades)\n",
      "             82 LOAD_CONST               5 (5000)\n",
      "             84 LOAD_CONST               6 (5005)\n",
      "             86 BUILD_SLICE              2\n",
      "             88 BINARY_SUBSCR\n",
      "             90 LOAD_FAST                1 (new_grades)\n",
      "             92 LOAD_CONST               7 (-5)\n",
      "             94 LOAD_CONST               0 (None)\n",
      "             96 BUILD_SLICE              2\n",
      "             98 BINARY_SUBSCR\n",
      "            100 CALL_FUNCTION            3\n",
      "            102 POP_TOP\n",
      "            104 LOAD_CONST               0 (None)\n",
      "            106 RETURN_VALUE\n",
      "\n",
      "Disassembly of <code object <listcomp> at 0x10a1c4810, file \"<ipython-input-5-3c1dae8d96f2>\", line 5>:\n",
      "  5           0 BUILD_LIST               0\n",
      "              2 LOAD_FAST                0 (.0)\n",
      "        >>    4 FOR_ITER                12 (to 18)\n",
      "              6 STORE_FAST               1 (grade)\n",
      "              8 LOAD_FAST                1 (grade)\n",
      "             10 LOAD_CONST               0 (1)\n",
      "             12 BINARY_ADD\n",
      "             14 LIST_APPEND              2\n",
      "             16 JUMP_ABSOLUTE            4\n",
      "        >>   18 RETURN_VALUE\n"
     ]
    }
   ],
   "source": [
    "dis.dis(append_grades_faster)"
   ]
  },
  {
   "cell_type": "markdown",
   "metadata": {},
   "source": [
    "We can perform similar operations on dictionaries:\n"
   ]
  },
  {
   "cell_type": "code",
   "execution_count": 7,
   "metadata": {},
   "outputs": [
    {
     "name": "stdout",
     "output_type": "stream",
     "text": [
      "{'A': 1, 'B': 3}\n"
     ]
    }
   ],
   "source": [
    "results = {name: grade for name, grade in [(\"A\", 1), (\"B\", 3)]}\n",
    "print(results)"
   ]
  },
  {
   "cell_type": "markdown",
   "metadata": {},
   "source": [
    "And nested lists, or even use conditions to filter data"
   ]
  },
  {
   "cell_type": "code",
   "execution_count": 8,
   "metadata": {},
   "outputs": [
    {
     "name": "stdout",
     "output_type": "stream",
     "text": [
      "[1, 2, 3, 4, 5, 6]\n",
      "[2, 4, 6]\n"
     ]
    }
   ],
   "source": [
    "# Nested list comprehension\n",
    "all_items = [item for items in [[1,2], [3,4], [5,6]] for item in items]\n",
    "print(all_items)\n",
    "\n",
    "# Filtering data\n",
    "filtered_items = [item for item in all_items if item % 2 == 0]\n",
    "print(filtered_items)"
   ]
  },
  {
   "cell_type": "markdown",
   "metadata": {},
   "source": [
    "Generators are efficient and can often be used interchangeably with lists:"
   ]
  },
  {
   "cell_type": "code",
   "execution_count": 9,
   "metadata": {},
   "outputs": [
    {
     "name": "stdout",
     "output_type": "stream",
     "text": [
      "<generator object generate_list at 0x10a1ea6d8>\n"
     ]
    },
    {
     "ename": "TypeError",
     "evalue": "object of type 'generator' has no len()",
     "output_type": "error",
     "traceback": [
      "\u001b[0;31m---------------------------------------------------------------------------\u001b[0m",
      "\u001b[0;31mTypeError\u001b[0m                                 Traceback (most recent call last)",
      "\u001b[0;32m<ipython-input-9-ed1efa278dd9>\u001b[0m in \u001b[0;36m<module>\u001b[0;34m\u001b[0m\n\u001b[1;32m     15\u001b[0m \u001b[0;34m\u001b[0m\u001b[0m\n\u001b[1;32m     16\u001b[0m \u001b[0;31m# Generator objects do not have a length attribute\u001b[0m\u001b[0;34m\u001b[0m\u001b[0;34m\u001b[0m\u001b[0m\n\u001b[0;32m---> 17\u001b[0;31m \u001b[0mprint\u001b[0m\u001b[0;34m(\u001b[0m\u001b[0mlen\u001b[0m\u001b[0;34m(\u001b[0m\u001b[0mlong_list\u001b[0m\u001b[0;34m)\u001b[0m\u001b[0;34m)\u001b[0m\u001b[0;34m\u001b[0m\u001b[0m\n\u001b[0m",
      "\u001b[0;31mTypeError\u001b[0m: object of type 'generator' has no len()"
     ]
    }
   ],
   "source": [
    "def generate_list(length):\n",
    "    for i in range(length):\n",
    "        yield i\n",
    "        \n",
    "        \n",
    "def generate_long_list(length):\n",
    "    return (i for i in range(length*100_000))\n",
    "        \n",
    "\n",
    "short_list = generate_list(3)\n",
    "long_list = generate_long_list(3)\n",
    "\n",
    "# Print short_list\n",
    "print(short_list)\n",
    "\n",
    "# Generator objects do not have a length attribute\n",
    "print(len(long_list))"
   ]
  },
  {
   "cell_type": "code",
   "execution_count": 10,
   "metadata": {},
   "outputs": [
    {
     "name": "stdout",
     "output_type": "stream",
     "text": [
      "0\n",
      "1\n",
      "2\n"
     ]
    },
    {
     "ename": "StopIteration",
     "evalue": "",
     "output_type": "error",
     "traceback": [
      "\u001b[0;31m---------------------------------------------------------------------------\u001b[0m",
      "\u001b[0;31mStopIteration\u001b[0m                             Traceback (most recent call last)",
      "\u001b[0;32m<ipython-input-10-ff2abb510938>\u001b[0m in \u001b[0;36m<module>\u001b[0;34m\u001b[0m\n\u001b[1;32m      2\u001b[0m \u001b[0mprint\u001b[0m\u001b[0;34m(\u001b[0m\u001b[0mnext\u001b[0m\u001b[0;34m(\u001b[0m\u001b[0mshort_list\u001b[0m\u001b[0;34m)\u001b[0m\u001b[0;34m)\u001b[0m\u001b[0;34m\u001b[0m\u001b[0m\n\u001b[1;32m      3\u001b[0m \u001b[0mprint\u001b[0m\u001b[0;34m(\u001b[0m\u001b[0mnext\u001b[0m\u001b[0;34m(\u001b[0m\u001b[0mshort_list\u001b[0m\u001b[0;34m)\u001b[0m\u001b[0;34m)\u001b[0m\u001b[0;34m\u001b[0m\u001b[0m\n\u001b[0;32m----> 4\u001b[0;31m \u001b[0mprint\u001b[0m\u001b[0;34m(\u001b[0m\u001b[0mnext\u001b[0m\u001b[0;34m(\u001b[0m\u001b[0mshort_list\u001b[0m\u001b[0;34m)\u001b[0m\u001b[0;34m)\u001b[0m\u001b[0;34m\u001b[0m\u001b[0m\n\u001b[0m",
      "\u001b[0;31mStopIteration\u001b[0m: "
     ]
    }
   ],
   "source": [
    "print(next(short_list))\n",
    "print(next(short_list))\n",
    "print(next(short_list))\n",
    "print(next(short_list))"
   ]
  },
  {
   "cell_type": "code",
   "execution_count": 11,
   "metadata": {},
   "outputs": [
    {
     "name": "stdout",
     "output_type": "stream",
     "text": [
      "5\n",
      "StopIteration raised, element not found!\n",
      "Not found\n"
     ]
    }
   ],
   "source": [
    "# We can use next to get the first element of a list too - we can combine this with inline if statements\n",
    "elements = range(1,100)\n",
    "\n",
    "# Get the first element divisible by 5\n",
    "print(next(e for e in elements if e % 5 == 0))\n",
    "\n",
    "# What happens if we cannot find an element divisible by 200?\n",
    "try:\n",
    "    print(next(e for e in elements if e % 200 == 0))\n",
    "except StopIteration:\n",
    "    print(\"StopIteration raised, element not found!\")\n",
    "\n",
    "# Provide a default value so this does not happen\n",
    "print(next((e for e in elements if e % 200 == 0), \"Not found\"))"
   ]
  },
  {
   "cell_type": "markdown",
   "metadata": {},
   "source": [
    "We can efficiently merge lists and update dictionaries using built-in functions:"
   ]
  },
  {
   "cell_type": "code",
   "execution_count": 12,
   "metadata": {},
   "outputs": [
    {
     "name": "stdout",
     "output_type": "stream",
     "text": [
      "[0, 1, 2, 3, 4, 5, 6, 7, 8, 9, 'a', 'b', 'c']\n"
     ]
    }
   ],
   "source": [
    "first_list = list(range(10))\n",
    "second_list = ['a', 'b', 'c']\n",
    "\n",
    "first_list.extend(second_list)\n",
    "print(first_list)"
   ]
  },
  {
   "cell_type": "code",
   "execution_count": 13,
   "metadata": {},
   "outputs": [
    {
     "name": "stdout",
     "output_type": "stream",
     "text": [
      "{'quantity': 4, 'postcode': 'G12 8QQ', 'id': 1, 'weight': 12.5, 'height': 23}\n"
     ]
    }
   ],
   "source": [
    "item = {'id': 1, 'weight': 12.5, 'height': 23}\n",
    "order_details = {'quantity': 4, 'postcode': 'G12 8QQ'}\n",
    "\n",
    "order_details.update(item)\n",
    "print(order_details)"
   ]
  },
  {
   "cell_type": "markdown",
   "metadata": {},
   "source": [
    "Or merge/separate a list of tuples:"
   ]
  },
  {
   "cell_type": "code",
   "execution_count": 14,
   "metadata": {},
   "outputs": [
    {
     "name": "stdout",
     "output_type": "stream",
     "text": [
      "[(0, 10), (1, 11), (2, 12), (3, 13), (4, 14), (5, 15), (6, 16), (7, 17), (8, 18), (9, 19)]\n",
      "(0, 1, 2, 3, 4, 5, 6, 7, 8, 9)\n",
      "(10, 11, 12, 13, 14, 15, 16, 17, 18, 19)\n"
     ]
    }
   ],
   "source": [
    "first_list = range(10)\n",
    "second_list = range(10, 20)\n",
    "\n",
    "# Zip returns an iterator\n",
    "zipped = list(zip(first_list, second_list))\n",
    "\n",
    "print(zipped)\n",
    "\n",
    "# Split a list of tuples into separate lists\n",
    "a, b = zip(*zipped)\n",
    "print(a)\n",
    "print(b)"
   ]
  },
  {
   "cell_type": "markdown",
   "metadata": {},
   "source": [
    "Iteration using enumerate and itertools:"
   ]
  },
  {
   "cell_type": "code",
   "execution_count": 15,
   "metadata": {},
   "outputs": [
    {
     "name": "stdout",
     "output_type": "stream",
     "text": [
      "Index: 0 grade: 10\n",
      "Index: 1 grade: 9\n",
      "Index: 2 grade: 8\n",
      "Index: 3 grade: 7\n",
      "Index: 4 grade: 6\n",
      "Index: 5 grade: 5\n",
      "Index: 6 grade: 4\n",
      "Index: 7 grade: 3\n",
      "Index: 8 grade: 2\n",
      "Index: 9 grade: 1\n"
     ]
    }
   ],
   "source": [
    "grades = range(10, 0, -1)\n",
    "\n",
    "for index, grade in enumerate(grades):\n",
    "    print(\"Index: {} grade: {}\".format(index, grade))"
   ]
  },
  {
   "cell_type": "code",
   "execution_count": 16,
   "metadata": {},
   "outputs": [
    {
     "name": "stdout",
     "output_type": "stream",
     "text": [
      "w o r k s h o p w o r k s h o p w o r k "
     ]
    }
   ],
   "source": [
    "from itertools import cycle, islice, permutations\n",
    "\n",
    "# Cycle over the string 'workshop'\n",
    "workshop = cycle(\"workshop\")\n",
    "\n",
    "count = 0\n",
    "while count < 20:\n",
    "    print(next(workshop), end = \" \")\n",
    "    count += 1"
   ]
  },
  {
   "cell_type": "code",
   "execution_count": 17,
   "metadata": {},
   "outputs": [
    {
     "name": "stdout",
     "output_type": "stream",
     "text": [
      "[2, 5, 1]\n"
     ]
    }
   ],
   "source": [
    "# Efficiently slice a list\n",
    "items = [1, 2, 'A', 5, 7, 1, 'C']\n",
    "sliced_items = islice(items, 1, None, 2)\n",
    "\n",
    "print(list(sliced_items))"
   ]
  },
  {
   "cell_type": "code",
   "execution_count": 18,
   "metadata": {},
   "outputs": [
    {
     "name": "stdout",
     "output_type": "stream",
     "text": [
      "[(1, 2), (1, 'A'), (1, 5), (1, 7), (1, 1), (1, 'C'), (2, 1), (2, 'A'), (2, 5), (2, 7), (2, 1), (2, 'C'), ('A', 1), ('A', 2), ('A', 5), ('A', 7), ('A', 1), ('A', 'C'), (5, 1), (5, 2), (5, 'A'), (5, 7), (5, 1), (5, 'C'), (7, 1), (7, 2), (7, 'A'), (7, 5), (7, 1), (7, 'C'), (1, 1), (1, 2), (1, 'A'), (1, 5), (1, 7), (1, 'C'), ('C', 1), ('C', 2), ('C', 'A'), ('C', 5), ('C', 7), ('C', 1)]\n"
     ]
    }
   ],
   "source": [
    "# Get all permutations of the list of items above\n",
    "item_perms = permutations(items, 2)\n",
    "\n",
    "print(list(item_perms))"
   ]
  },
  {
   "cell_type": "markdown",
   "metadata": {},
   "source": [
    " <h2 align=\"center\">Data and strings</h2>\n",
    " \n",
    "<h3 align=\"center\">Data</h3>"
   ]
  },
  {
   "cell_type": "markdown",
   "metadata": {},
   "source": [
    " We can easily swap two variables, without the need for a temporary variable:\n"
   ]
  },
  {
   "cell_type": "code",
   "execution_count": 19,
   "metadata": {},
   "outputs": [
    {
     "name": "stdout",
     "output_type": "stream",
     "text": [
      "6 5\n"
     ]
    }
   ],
   "source": [
    "a = 5\n",
    "b = 6\n",
    "\n",
    "b, a = a, b\n",
    "print(a, b)"
   ]
  },
  {
   "cell_type": "markdown",
   "metadata": {},
   "source": [
    "For this operation, we have used tuples, the immutable Python array"
   ]
  },
  {
   "cell_type": "code",
   "execution_count": 20,
   "metadata": {},
   "outputs": [
    {
     "name": "stdout",
     "output_type": "stream",
     "text": [
      "(1, 2, 3)\n"
     ]
    },
    {
     "ename": "TypeError",
     "evalue": "'tuple' object does not support item assignment",
     "output_type": "error",
     "traceback": [
      "\u001b[0;31m---------------------------------------------------------------------------\u001b[0m",
      "\u001b[0;31mTypeError\u001b[0m                                 Traceback (most recent call last)",
      "\u001b[0;32m<ipython-input-20-3729eec222d2>\u001b[0m in \u001b[0;36m<module>\u001b[0;34m\u001b[0m\n\u001b[1;32m      2\u001b[0m \u001b[0mprint\u001b[0m\u001b[0;34m(\u001b[0m\u001b[0mt\u001b[0m\u001b[0;34m)\u001b[0m\u001b[0;34m\u001b[0m\u001b[0m\n\u001b[1;32m      3\u001b[0m \u001b[0;34m\u001b[0m\u001b[0m\n\u001b[0;32m----> 4\u001b[0;31m \u001b[0mt\u001b[0m\u001b[0;34m[\u001b[0m\u001b[0;36m1\u001b[0m\u001b[0;34m]\u001b[0m \u001b[0;34m=\u001b[0m \u001b[0;36m100\u001b[0m\u001b[0;34m\u001b[0m\u001b[0m\n\u001b[0m",
      "\u001b[0;31mTypeError\u001b[0m: 'tuple' object does not support item assignment"
     ]
    }
   ],
   "source": [
    "t = (1,2,3)\n",
    "print(t)\n",
    "\n",
    "t[1] = 100"
   ]
  },
  {
   "cell_type": "markdown",
   "metadata": {},
   "source": [
    "We can use tuples to store data, naming each position:"
   ]
  },
  {
   "cell_type": "code",
   "execution_count": 21,
   "metadata": {},
   "outputs": [
    {
     "name": "stdout",
     "output_type": "stream",
     "text": [
      "99\n"
     ]
    }
   ],
   "source": [
    "from collections import namedtuple\n",
    "\n",
    "person = namedtuple('Person', ['age', 'height', 'weight'])\n",
    "\n",
    "p = person(99, height=170, weight=70)\n",
    "print(p.age)"
   ]
  },
  {
   "cell_type": "markdown",
   "metadata": {},
   "source": [
    "Another useful built-in type is the set (and immutable frozenset):"
   ]
  },
  {
   "cell_type": "code",
   "execution_count": 22,
   "metadata": {},
   "outputs": [
    {
     "name": "stdout",
     "output_type": "stream",
     "text": [
      "True\n",
      "frozenset({1, 2, 3, 4, 5})\n",
      "{1, 2, 3, 4, 5}\n",
      "\n",
      "{0, 6, 7, 8, 9}\n"
     ]
    }
   ],
   "source": [
    "items = range(10)\n",
    "set_of_items = set(items)\n",
    "\n",
    "print(len(items) == len(set_of_items))\n",
    "\n",
    "grades = [1,1,2,3,4,4,4,5]\n",
    "set_of_grades = frozenset(grades)\n",
    "\n",
    "print(set_of_grades)\n",
    "\n",
    "# Common set operations are supported and are efficient:\n",
    "print(set_of_items.intersection(set_of_grades))\n",
    "print()\n",
    "print(set_of_items.difference(set_of_grades))"
   ]
  },
  {
   "cell_type": "markdown",
   "metadata": {},
   "source": [
    "The beauty of Python comes from its simplicity and elegance - we can use lists as stacks without much work:"
   ]
  },
  {
   "cell_type": "code",
   "execution_count": 23,
   "metadata": {},
   "outputs": [
    {
     "name": "stdout",
     "output_type": "stream",
     "text": [
      "['a', 'b', 'c', 'd']\n",
      "d\n",
      "['a', 'b', 'c']\n"
     ]
    }
   ],
   "source": [
    "stack = ['a', 'b', 'c']\n",
    "\n",
    "# Push to the stack\n",
    "stack.append('d')\n",
    "print(stack)\n",
    "\n",
    "# Pop from the stack\n",
    "item = stack.pop()\n",
    "print(item)\n",
    "print(stack)"
   ]
  },
  {
   "cell_type": "markdown",
   "metadata": {},
   "source": [
    "For more efficient data structures (in data science projects for example), there are libraries such as NumPy or pandas"
   ]
  },
  {
   "cell_type": "markdown",
   "metadata": {},
   "source": [
    "<h3 align=\"center\">Strings</h3>\n",
    "\n",
    "We can efficiently join lists of characters:"
   ]
  },
  {
   "cell_type": "code",
   "execution_count": 24,
   "metadata": {},
   "outputs": [
    {
     "name": "stdout",
     "output_type": "stream",
     "text": [
      "a;b;c;d;e;f;g;h;i;j;k;l;m;n;o;p;q;r;s;t;u;v;w;x;y;z\n"
     ]
    }
   ],
   "source": [
    "characters = [c for c in \"abcdefghijklmnopqrstuvwxyz\"]\n",
    "\n",
    "print(\";\".join(characters))"
   ]
  },
  {
   "cell_type": "markdown",
   "metadata": {},
   "source": [
    "There are many ways to format strings in Python:\n"
   ]
  },
  {
   "cell_type": "code",
   "execution_count": 25,
   "metadata": {},
   "outputs": [
    {
     "name": "stdout",
     "output_type": "stream",
     "text": [
      "This is Python 3, who is 10 years old.\n"
     ]
    }
   ],
   "source": [
    "# The beginner's way, not efficient\n",
    "name = \"Python 3\"\n",
    "age = 10\n",
    "\n",
    "print(\"This is \" + name + \", who is \" + str(age) + \" years old.\")"
   ]
  },
  {
   "cell_type": "code",
   "execution_count": 26,
   "metadata": {},
   "outputs": [
    {
     "name": "stdout",
     "output_type": "stream",
     "text": [
      "This is Python 3, who is 10 years old.\n"
     ]
    }
   ],
   "source": [
    "# Slightly better\n",
    "print(\"This is %s, who is %d years old.\" % (name, age))"
   ]
  },
  {
   "cell_type": "code",
   "execution_count": 27,
   "metadata": {},
   "outputs": [
    {
     "name": "stdout",
     "output_type": "stream",
     "text": [
      "This is Python 3, who is 10 years old.\n"
     ]
    }
   ],
   "source": [
    "# The preferred way of formatting strings until f-strings were added in Python 3.6\n",
    "print(\"This is {name}, who is {age} years old.\".format(age = age, name = name))"
   ]
  },
  {
   "cell_type": "code",
   "execution_count": 28,
   "metadata": {},
   "outputs": [
    {
     "name": "stdout",
     "output_type": "stream",
     "text": [
      "This is Python 3, who is 10 years old\n"
     ]
    }
   ],
   "source": [
    "# The best option: f-strings\n",
    "print(f\"This is {name}, who is {age} years old\")"
   ]
  },
  {
   "cell_type": "markdown",
   "metadata": {},
   "source": [
    "<h2 align=\"center\">'Type safety'</h2>\n",
    "\n",
    "As Python is dynamically typed, we can run into typing-related bugs:"
   ]
  },
  {
   "cell_type": "code",
   "execution_count": 31,
   "metadata": {},
   "outputs": [
    {
     "ename": "AttributeError",
     "evalue": "'B' object has no attribute 'print_a'",
     "output_type": "error",
     "traceback": [
      "\u001b[0;31m---------------------------------------------------------------------------\u001b[0m",
      "\u001b[0;31mAttributeError\u001b[0m                            Traceback (most recent call last)",
      "\u001b[0;32m<ipython-input-31-0c107862f84f>\u001b[0m in \u001b[0;36m<module>\u001b[0;34m\u001b[0m\n\u001b[1;32m     18\u001b[0m \u001b[0ma\u001b[0m \u001b[0;34m=\u001b[0m \u001b[0mcreate_a_or_b\u001b[0m\u001b[0;34m(\u001b[0m\u001b[0;34m)\u001b[0m\u001b[0;34m\u001b[0m\u001b[0m\n\u001b[1;32m     19\u001b[0m \u001b[0;34m\u001b[0m\u001b[0m\n\u001b[0;32m---> 20\u001b[0;31m \u001b[0ma\u001b[0m\u001b[0;34m.\u001b[0m\u001b[0mprint_a\u001b[0m\u001b[0;34m(\u001b[0m\u001b[0;34m)\u001b[0m\u001b[0;34m\u001b[0m\u001b[0m\n\u001b[0m",
      "\u001b[0;31mAttributeError\u001b[0m: 'B' object has no attribute 'print_a'"
     ]
    }
   ],
   "source": [
    "import random\n",
    "\n",
    "\n",
    "def create_a_or_b():\n",
    "    \"\"\" Simulates a type-related bug \"\"\"\n",
    "    i = random.randint(0, 10)\n",
    "    return A() if i >= 5 else B()\n",
    "\n",
    "class A:\n",
    "    def print_a(self):\n",
    "        print(\"A\")\n",
    "        \n",
    "class B:\n",
    "    def print_b(self):\n",
    "        print(\"B\")\n",
    "        \n",
    "# We assume that variable a has type A but cannot be certain if it is coming from somewhere else...\n",
    "a = create_a_or_b()\n",
    "\n",
    "a.print_a()"
   ]
  },
  {
   "cell_type": "markdown",
   "metadata": {},
   "source": [
    "Since Python 3.5, developers can add type annotations to their code to aid static type checkers in catching mistakes. Adding such type hints will not make Python typed, but helps avoid common issues."
   ]
  },
  {
   "cell_type": "code",
   "execution_count": 32,
   "metadata": {},
   "outputs": [
    {
     "name": "stdout",
     "output_type": "stream",
     "text": [
      "None\n",
      "None\n"
     ]
    }
   ],
   "source": [
    "from typing import Dict\n",
    "\n",
    "# Maps users to some external ID\n",
    "custom_user_map = Dict[str, int]\n",
    "\n",
    "\n",
    "def get_external_id(username: str, usermap: custom_user_map) -> int:\n",
    "    \"\"\" Returns the external ID of the given user \"\"\"\n",
    "    return usermap.get(username)\n",
    "\n",
    "\n",
    "print(get_external_id('test', {'test1': 1}))\n",
    "print(get_external_id(1, {'test': 1}))"
   ]
  },
  {
   "cell_type": "markdown",
   "metadata": {},
   "source": [
    "<h2 align=\"center\">Kwargs and lambdas</h2>\n",
    "\n",
    "When looking through Python library code, we can come across \\*args and \\**kwargs, but how do we use them?"
   ]
  },
  {
   "cell_type": "code",
   "execution_count": 33,
   "metadata": {},
   "outputs": [
    {
     "name": "stdout",
     "output_type": "stream",
     "text": [
      "Args: ('this', 'is', 'a', 'list', 'of', 'args')\n"
     ]
    }
   ],
   "source": [
    "def call_fn_by_name_with_arg_list(name, args):\n",
    "    \"\"\" Calls the given function name, passing args to it \"\"\"\n",
    "    globals()[name](*args, should_print = True)\n",
    "    \n",
    "\n",
    "def print_args(*args, should_print):\n",
    "    \"\"\" Prints args if should_print is True, does nothing otherwise \"\"\"\n",
    "    if should_print:\n",
    "        print(f\"Args: {args}\")\n",
    "        \n",
    "        \n",
    "call_fn_by_name_with_arg_list(\"print_args\", ['this', 'is', 'a', 'list', 'of', 'args'])"
   ]
  },
  {
   "cell_type": "code",
   "execution_count": 34,
   "metadata": {},
   "outputs": [
    {
     "name": "stdout",
     "output_type": "stream",
     "text": [
      "Name: Python 3, age: 10\n"
     ]
    }
   ],
   "source": [
    "def call_fn_by_name_with_kwargs(name, kwargs):\n",
    "    \"\"\" Calls the given function name, passing kwargs to it \"\"\"\n",
    "    globals()[name](**kwargs, should_print = True)\n",
    "    \n",
    "    \n",
    "def print_kwargs(should_print, **kwargs):\n",
    "    \"\"\" Prints kwargs if should_rpint is True, does nothing otherwise \"\"\"\n",
    "    if should_print:\n",
    "        print(f\"Name: {kwargs.get('name')}, age: {kwargs.get('age')}\")\n",
    "    \n",
    "    \n",
    "call_fn_by_name_with_kwargs(\"print_kwargs\", {'name': 'Python 3', 'age': 10})"
   ]
  },
  {
   "cell_type": "markdown",
   "metadata": {},
   "source": [
    "There are plenty of built-in functions to aid functional programming in Python, I show a very limited set of them below."
   ]
  },
  {
   "cell_type": "markdown",
   "metadata": {},
   "source": [
    "Lambdas are probably the best-known:"
   ]
  },
  {
   "cell_type": "code",
   "execution_count": 35,
   "metadata": {},
   "outputs": [
    {
     "name": "stdout",
     "output_type": "stream",
     "text": [
      "[{'a': 1}, {'a': 2}, {'a': 5}, {'a': 9}]\n",
      "[0, 2, 4, 6, 8]\n",
      "[0, 2, 4, 6, 8]\n"
     ]
    }
   ],
   "source": [
    "items = [{'a': 2}, {'a': 9}, {'a': 1}, {'a': 5}]\n",
    "\n",
    "print(sorted(items, key = lambda k: k['a']))\n",
    "\n",
    "# This is not Pythonic, the second version is preferred\n",
    "filter_even_numbers = lambda num: num % 2 == 0\n",
    "print([num for num in range(10) if filter_even_numbers(num)])\n",
    "\n",
    "# Preferred option\n",
    "def filter_even_numbers(num): return num % 2 == 0\n",
    "print([num for num in range(10) if filter_even_numbers(num)])"
   ]
  },
  {
   "cell_type": "markdown",
   "metadata": {},
   "source": [
    "Filter an iterable:"
   ]
  },
  {
   "cell_type": "code",
   "execution_count": 36,
   "metadata": {},
   "outputs": [
    {
     "name": "stdout",
     "output_type": "stream",
     "text": [
      "[{'a': 9}]\n"
     ]
    }
   ],
   "source": [
    "filtered_items = filter(lambda item: item['a'] % 3 == 0, items)\n",
    "print(list(filtered_items))"
   ]
  },
  {
   "cell_type": "markdown",
   "metadata": {},
   "source": [
    "Check if all or any of the given conditions hold:"
   ]
  },
  {
   "cell_type": "code",
   "execution_count": 37,
   "metadata": {},
   "outputs": [
    {
     "name": "stdout",
     "output_type": "stream",
     "text": [
      "True\n"
     ]
    }
   ],
   "source": [
    "print(all((1 < 3, 4 < 5, 6 > 3)))"
   ]
  },
  {
   "cell_type": "code",
   "execution_count": 38,
   "metadata": {},
   "outputs": [
    {
     "name": "stdout",
     "output_type": "stream",
     "text": [
      "True\n"
     ]
    }
   ],
   "source": [
    "print(any((2 > 3, 5 < 6)))"
   ]
  },
  {
   "cell_type": "markdown",
   "metadata": {},
   "source": [
    "Apply the same function to all elements"
   ]
  },
  {
   "cell_type": "code",
   "execution_count": 39,
   "metadata": {},
   "outputs": [
    {
     "name": "stdout",
     "output_type": "stream",
     "text": [
      "['0', '1', '2', '3', '4', '5', '6', '7', '8', '9']\n"
     ]
    }
   ],
   "source": [
    "ints = range(10)\n",
    "strings = list(map(str, ints))\n",
    "\n",
    "# Strings are really strings\n",
    "for s in strings:\n",
    "    if not isinstance(s, str):\n",
    "        print(f\"{s} is not a string!\")\n",
    "        \n",
    "print(strings)"
   ]
  },
  {
   "cell_type": "markdown",
   "metadata": {},
   "source": [
    "Reduce an iterable to a value:"
   ]
  },
  {
   "cell_type": "code",
   "execution_count": 40,
   "metadata": {},
   "outputs": [
    {
     "name": "stdout",
     "output_type": "stream",
     "text": [
      "338350\n"
     ]
    }
   ],
   "source": [
    "from functools import reduce\n",
    "\n",
    "# Sum of squares - 338350\n",
    "first_100_numbers = range(1, 101)\n",
    "sum_of_squares = reduce(lambda sum, elem: sum + elem ** 2, first_100_numbers)\n",
    "\n",
    "print(sum_of_squares)"
   ]
  },
  {
   "cell_type": "markdown",
   "metadata": {},
   "source": [
    "<h2 align=\"center\">OOP in Python</h2>\n",
    "\n",
    "While Python is not a typically object-oriented language like Java, it does support object-oriented programming in the Pythonic way.\n",
    "\n",
    "There is no need for interfaces due to its support for multiple inheritance, abstract classes can achieve the same results:"
   ]
  },
  {
   "cell_type": "code",
   "execution_count": 41,
   "metadata": {},
   "outputs": [
    {
     "data": {
      "text/plain": [
       "42"
      ]
     },
     "execution_count": 41,
     "metadata": {},
     "output_type": "execute_result"
    }
   ],
   "source": [
    "from abc import ABC, abstractmethod\n",
    "\n",
    "\n",
    "class AbstractItem(ABC):\n",
    "    @abstractmethod\n",
    "    def price(self):\n",
    "        raise NotImplementedError(\"Price() not defined in AbstractItem\")\n",
    "      \n",
    "    \n",
    "class Item(AbstractItem):   \n",
    "    def price(self):\n",
    "        return 42\n",
    "    \n",
    "\n",
    "a = Item()\n",
    "a.price()"
   ]
  },
  {
   "cell_type": "markdown",
   "metadata": {},
   "source": [
    "Defining classes is simple, and enums are also supported"
   ]
  },
  {
   "cell_type": "code",
   "execution_count": 42,
   "metadata": {},
   "outputs": [
    {
     "name": "stdout",
     "output_type": "stream",
     "text": [
      "Driving a red car with 4 wheels\n"
     ]
    }
   ],
   "source": [
    "from enum import Enum\n",
    "\n",
    "\n",
    "class Colours(Enum):\n",
    "    RED = \"red\"\n",
    "    GREEN = \"green\"\n",
    "    BLUE = \"blue\"\n",
    "\n",
    "\n",
    "class Car:\n",
    "    wheels: int = 4\n",
    "    colour: Colours\n",
    "        \n",
    "    def __init__(self, colour):\n",
    "        self.colour = colour\n",
    "        \n",
    "    def drive(self):\n",
    "        return f\"Driving a {self.colour.value} car with {self.wheels} wheels\"\n",
    "    \n",
    "    \n",
    "c = Car(Colours.RED)\n",
    "print(c.drive())"
   ]
  },
  {
   "cell_type": "markdown",
   "metadata": {},
   "source": [
    "Object equality behaves the 'usual' way:"
   ]
  },
  {
   "cell_type": "code",
   "execution_count": 43,
   "metadata": {},
   "outputs": [
    {
     "name": "stdout",
     "output_type": "stream",
     "text": [
      "False\n",
      "True\n"
     ]
    }
   ],
   "source": [
    "# Reusing the car class from above\n",
    "red_car = Car(Colours.RED)\n",
    "another_red_car = Car(Colours.RED)\n",
    "\n",
    "print(red_car is another_red_car)\n",
    "print(red_car is red_car)"
   ]
  },
  {
   "cell_type": "code",
   "execution_count": 44,
   "metadata": {},
   "outputs": [
    {
     "name": "stdout",
     "output_type": "stream",
     "text": [
      "False\n"
     ]
    }
   ],
   "source": [
    "print(red_car == another_red_car)"
   ]
  },
  {
   "cell_type": "code",
   "execution_count": 45,
   "metadata": {},
   "outputs": [
    {
     "name": "stdout",
     "output_type": "stream",
     "text": [
      "True\n"
     ]
    }
   ],
   "source": [
    "class EqualCar(Car):   \n",
    "    def __eq__(self, other):\n",
    "        return all((self.wheels == other.wheels, self.colour == other.colour))\n",
    "    \n",
    "\n",
    "red_car = EqualCar(Colours.RED)\n",
    "another_red_car = EqualCar(Colours.RED)\n",
    "\n",
    "print(red_car == another_red_car)"
   ]
  },
  {
   "cell_type": "markdown",
   "metadata": {},
   "source": [
    "It is important to note that **everything in Python is an object**."
   ]
  },
  {
   "cell_type": "markdown",
   "metadata": {},
   "source": [
    "<h2 align=\"center\">To async and beyond</h2>\n",
    "\n",
    "The Global Interpreter Lock (GIL) ensures that every CPython object is thread-safe which effectively means that every CPython interpreter instance is limited to using one thread. In some cases, this is not a huge limitation, for example a lightweight web application might run as several CPython instances. In more CPU-heavy applications using multiple threads without the need to work around the GIL would be a good way to improve usability and performance. Until the GIL is finally retired, there is an easy-to-use, performant solution for I/O bound applications: async and await.\n"
   ]
  },
  {
   "cell_type": "markdown",
   "metadata": {},
   "source": [
    "There are different ways to be asynchronous in Python:\n",
    "* Callbacks: just like in the Tornado library, fetching a resource with Tornado happens asynchronously and calls a function passed to it when done - a callback.\n",
    "* Green threads: manage threads in software\n",
    "* Use generators (asyncio and aiohttp): run generators in an event loop using *yield from*\n",
    "* Use async/await for clarity and better control"
   ]
  },
  {
   "cell_type": "markdown",
   "metadata": {},
   "source": [
    "A simple asyncio example:"
   ]
  },
  {
   "cell_type": "code",
   "execution_count": 46,
   "metadata": {},
   "outputs": [
    {
     "name": "stdout",
     "output_type": "stream",
     "text": [
      "API called with 0\n",
      "API called with 1\n",
      "API called with 2\n",
      "API called with 3\n",
      "API called with 4\n",
      "API called with 5\n",
      "API called with 6\n",
      "API called with 7\n",
      "API called with 8\n",
      "API called with 9\n"
     ]
    }
   ],
   "source": [
    "import asyncio\n",
    "\n",
    "\n",
    "async def api_call(arg):\n",
    "    \"\"\" Sleep then returns arg - simulates an API call \"\"\"\n",
    "    await asyncio.sleep(0.1)\n",
    "    return f\"API called with {arg}\"\n",
    "\n",
    "\n",
    "args = range(10)\n",
    "for arg in args:\n",
    "    result = await api_call(arg)\n",
    "    print(result)\n",
    "        \n",
    "\n",
    "# In a standard environment we would need to run the main asyncio loop\n",
    "# asyncio.run(main())"
   ]
  },
  {
   "cell_type": "markdown",
   "metadata": {},
   "source": [
    "A slightly more async example"
   ]
  },
  {
   "cell_type": "code",
   "execution_count": 47,
   "metadata": {},
   "outputs": [
    {
     "name": "stdout",
     "output_type": "stream",
     "text": [
      "API called with 0\n",
      "API called with 1\n",
      "API called with 2\n",
      "API called with 3\n",
      "API called with 4\n",
      "API called with 5\n",
      "API called with 6\n",
      "API called with 7\n",
      "API called with 8\n",
      "API called with 9\n"
     ]
    }
   ],
   "source": [
    "async def api_call(arg):\n",
    "    \"\"\" Sleep then returns arg - simulates an API call \"\"\"\n",
    "    await asyncio.sleep(1)\n",
    "    return f\"API called with {arg}\"\n",
    "\n",
    "\n",
    "args = range(10)\n",
    "tasks = [asyncio.create_task(api_call(arg)) for arg in args]\n",
    "\n",
    "for i in args:\n",
    "    result = await tasks[i]\n",
    "    print(result)"
   ]
  },
  {
   "cell_type": "markdown",
   "metadata": {},
   "source": [
    "We can use timeouts to control the longest time we are willing to wait for a task to complete:"
   ]
  },
  {
   "cell_type": "code",
   "execution_count": 48,
   "metadata": {},
   "outputs": [
    {
     "ename": "TimeoutError",
     "evalue": "",
     "output_type": "error",
     "traceback": [
      "\u001b[0;31m---------------------------------------------------------------------------\u001b[0m",
      "\u001b[0;31mTimeoutError\u001b[0m                              Traceback (most recent call last)",
      "\u001b[0;32mcell_name\u001b[0m in \u001b[0;36masync-def-wrapper\u001b[0;34m()\u001b[0m\n",
      "\u001b[0;32m/anaconda3/lib/python3.7/asyncio/tasks.py\u001b[0m in \u001b[0;36mwait_for\u001b[0;34m(fut, timeout, loop)\u001b[0m\n\u001b[1;32m    417\u001b[0m             \u001b[0;31m# See https://bugs.python.org/issue32751\u001b[0m\u001b[0;34m\u001b[0m\u001b[0;34m\u001b[0m\u001b[0m\n\u001b[1;32m    418\u001b[0m             \u001b[0;32mawait\u001b[0m \u001b[0m_cancel_and_wait\u001b[0m\u001b[0;34m(\u001b[0m\u001b[0mfut\u001b[0m\u001b[0;34m,\u001b[0m \u001b[0mloop\u001b[0m\u001b[0;34m=\u001b[0m\u001b[0mloop\u001b[0m\u001b[0;34m)\u001b[0m\u001b[0;34m\u001b[0m\u001b[0m\n\u001b[0;32m--> 419\u001b[0;31m             \u001b[0;32mraise\u001b[0m \u001b[0mfutures\u001b[0m\u001b[0;34m.\u001b[0m\u001b[0mTimeoutError\u001b[0m\u001b[0;34m(\u001b[0m\u001b[0;34m)\u001b[0m\u001b[0;34m\u001b[0m\u001b[0m\n\u001b[0m\u001b[1;32m    420\u001b[0m     \u001b[0;32mfinally\u001b[0m\u001b[0;34m:\u001b[0m\u001b[0;34m\u001b[0m\u001b[0m\n\u001b[1;32m    421\u001b[0m         \u001b[0mtimeout_handle\u001b[0m\u001b[0;34m.\u001b[0m\u001b[0mcancel\u001b[0m\u001b[0;34m(\u001b[0m\u001b[0;34m)\u001b[0m\u001b[0;34m\u001b[0m\u001b[0m\n",
      "\u001b[0;31mTimeoutError\u001b[0m: "
     ]
    }
   ],
   "source": [
    "async def api_call(arg):\n",
    "    \"\"\" Sleep then returns arg - simulates an API call \"\"\"\n",
    "    await asyncio.sleep(1)\n",
    "    return f\"API called with {arg}\"\n",
    "\n",
    "\n",
    "args = range(10)\n",
    "tasks = [asyncio.wait_for(api_call(arg), timeout = 0.5) for arg in args]\n",
    "\n",
    "for i in args:\n",
    "    result = await tasks[i]\n",
    "    print(result)"
   ]
  },
  {
   "cell_type": "markdown",
   "metadata": {},
   "source": [
    "Many other useful strcutures are available in the asyncio library such as locks, queues, priority queues, streams..."
   ]
  },
  {
   "cell_type": "markdown",
   "metadata": {},
   "source": [
    "Finally, an asynchronous HTTP example using [AIOHTTP](https://aiohttp.readthedocs.io/en/stable/):"
   ]
  },
  {
   "cell_type": "code",
   "execution_count": 50,
   "metadata": {},
   "outputs": [
    {
     "name": "stdout",
     "output_type": "stream",
     "text": [
      "Error thrown: [Errno 48] error while attempting to bind on address ('127.0.0.1', 3002): address already in use\n"
     ]
    }
   ],
   "source": [
    "from aiohttp import web\n",
    "import requests\n",
    "\n",
    "\n",
    "async def handle(request):\n",
    "    return web.Response(text = \"Request handled\")\n",
    "\n",
    "try:\n",
    "    app = web.Application()\n",
    "    app.add_routes([web.get('/', handle)])\n",
    "\n",
    "    # Another workaround for Jupyter notebooks\n",
    "    runner = web.AppRunner(app)\n",
    "    await runner.setup()\n",
    "    site = web.TCPSite(runner, 'localhost', 3002)\n",
    "    await site.start()\n",
    "except (OSError, RuntimeError) as e:\n",
    "    print(f\"Error thrown: {e}\")\n",
    "    # Stop the server\n",
    "    await runner.cleanup()"
   ]
  },
  {
   "cell_type": "code",
   "execution_count": 51,
   "metadata": {},
   "outputs": [],
   "source": [
    "# Stop the server\n",
    "await runner.cleanup()"
   ]
  },
  {
   "cell_type": "markdown",
   "metadata": {},
   "source": [
    "<h2 align=\"center\">Is Python slow?</h2>\n",
    "\n",
    "A common argument against Python is its speed, and even a well-optimised computation-intensive Python program will definitely be slower than the same well-written program written in C. While Python might not be the language to build operating systems in, it can offer a huge increase in productivity compared to 'faster' languages.\n",
    "\n",
    "In data-related programs, libraries such as numpy can help by providing efficient data structures and operations on them.\n",
    "\n",
    "The next steps in optimising Python programs can be the use of alternative implementations such as [PyPy](http://pypy.org/), use [Cython](https://cython.org/) and static typing or a JIT compiler like [Numba](http://numba.pydata.org/). As the standard CPython distribution is based on C, it is also possible to write extension (even entire projects) in C and use Python as a wrapper around them.\n",
    "\n",
    "Interestingly, there are even Python to JavaScript compilers, for those who would like to write their ReactJS applications in Python: [Transcrypt](http://www.transcrypt.org/) with [PyReact](https://github.com/doconix/pyreact)."
   ]
  },
  {
   "cell_type": "markdown",
   "metadata": {},
   "source": [
    "<h2 align=\"center\">The future of Python</h2>\n",
    "\n",
    "Python 3.8 is planned to include the usual performance and security improvements, but also a few new features. \n",
    "* Assignment expressions aim to improve style, readability, performance and the debugging experience: [PEP 572](https://www.python.org/dev/peps/pep-0572/)\n",
    "* Improving the startup speed of the CPython interpreter\n",
    "* Enabling the use of context variables with generators\n",
    "\n",
    "After the end of 2019 when these features are released in 3.8, we can expect 3.9 then 4.0 (3.10?) in the next years which are planned to further improve performance (possibly by implementing a JIT compiler like PyPy does) or even getting rid of the GIL. In any case, Python is an extremely popular language and its use in industry is expected to continue growing."
   ]
  },
  {
   "cell_type": "markdown",
   "metadata": {},
   "source": [
    "<h2 align=\"center\">Interesting Python resources</h2>\n",
    "\n",
    "If you would like to learn more about any of these topics or Python in general, these resources might be helpful:\n",
    "* The excellent Python documentation: https://docs.python.org/\n",
    "* Python Data Science Handbook: https://jakevdp.github.io/PythonDataScienceHandbook/\n",
    "* All Python Enhancement Proposals, including proposed ones: https://www.python.org/dev/peps/\n",
    "* Interesting thoughts on the 'slowness' of Python: https://hackernoon.com/yes-python-is-slow-and-i-dont-care-13763980b5a1"
   ]
  },
  {
   "cell_type": "markdown",
   "metadata": {},
   "source": [
    "<h2 align=\"center\">Questions?</h2>"
   ]
  },
  {
   "cell_type": "markdown",
   "metadata": {},
   "source": [
    "<h2 align=\"center\">Thank you!</h2>"
   ]
  }
 ],
 "metadata": {
  "kernelspec": {
   "display_name": "Python 3",
   "language": "python",
   "name": "python3"
  },
  "language_info": {
   "codemirror_mode": {
    "name": "ipython",
    "version": 3
   },
   "file_extension": ".py",
   "mimetype": "text/x-python",
   "name": "python",
   "nbconvert_exporter": "python",
   "pygments_lexer": "ipython3",
   "version": "3.7.0"
  }
 },
 "nbformat": 4,
 "nbformat_minor": 2
}
